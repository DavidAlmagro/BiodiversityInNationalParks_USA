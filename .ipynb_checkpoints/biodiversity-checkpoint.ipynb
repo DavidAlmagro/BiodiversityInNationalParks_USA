{
 "cells": [
  {
   "cell_type": "markdown",
   "metadata": {},
   "source": [
    "# Introduction\n",
    "\n",
    "This project aims to analyze biodiversity within four prominent national parks in the United States: Bryce Canyon, Great Smoky Mountains, Yellowstone, and Yosemite. Using Python, we will explore species observations, conservation statuses, and their ecological implications.\n",
    "\n",
    "The analysis will address the following key questions:\n",
    "\n",
    "**1. Species Observations**\n",
    "- *Most Observed Species*: Identify the species that are most frequently observed in each park to understand which are better adapted to these environments.\n",
    "- *Variability Across Parks*: Compare species observations across the four parks to reveal significant patterns and differences in biodiversity.\n",
    "- *Temporal Trends*: Analyze historical observation data to determine trends over time, including whether certain species sightings are increasing or decreasing.\n",
    "\n",
    "**2. Species Information**\n",
    "- *Species Distribution by Category*: Examine the distribution of species across categories (Amphibian, Bird, etc.) to understand which groups are most represented in each park.\n",
    "- *Conservation Status*: Identify species with endangered statuses and assess how these species are distributed across the parks, providing insight into conservation needs.\n",
    "- *Endemic and Rare Species*: Determine which species are endemic or rare in each park to identify priority candidates for conservation efforts.\n",
    "\n",
    "## Data sources:\n",
    "\n",
    "Both `Observations.csv` and `Species_info.csv` was provided by [Codecademy.com](https://www.codecademy.com).\n",
    "\n",
    "Note: The data for this project is *inspired* by real data, but is mostly fictional."
   ]
  },
  {
   "cell_type": "markdown",
   "metadata": {},
   "source": [
    "# Import Python Modules"
   ]
  },
  {
   "cell_type": "code",
   "execution_count": 36,
   "metadata": {},
   "outputs": [],
   "source": [
    "from matplotlib import pyplot as plt\n",
    "import numpy as np\n",
    "import pandas as pd\n",
    "import seaborn as sns\n",
    "\n",
    "%matplotlib inline"
   ]
  },
  {
   "cell_type": "markdown",
   "metadata": {},
   "source": [
    "# Data Acquisition & Preparation\n",
    "## Data Import\n",
    "### *observations.csv*\n",
    "This dataset contains records of species observations across four national parks. The fields are as follows:\n",
    "\n",
    "- **scientific_name**: The scientific name of the species observed, following the binomial nomenclature system.\n",
    "- **park_name**: The name of the national park where the observation was made. The parks included are Bryce Canyon, Great Smoky Mountains, Yellowstone, and Yosemite.\n",
    "- **observations**: The number of times each species has been observed in the respective park, providing insights into species abundance and distribution."
   ]
  },
  {
   "cell_type": "code",
   "execution_count": 43,
   "metadata": {},
   "outputs": [
    {
     "data": {
      "text/html": [
       "<div>\n",
       "<style scoped>\n",
       "    .dataframe tbody tr th:only-of-type {\n",
       "        vertical-align: middle;\n",
       "    }\n",
       "\n",
       "    .dataframe tbody tr th {\n",
       "        vertical-align: top;\n",
       "    }\n",
       "\n",
       "    .dataframe thead th {\n",
       "        text-align: right;\n",
       "    }\n",
       "</style>\n",
       "<table border=\"1\" class=\"dataframe\">\n",
       "  <thead>\n",
       "    <tr style=\"text-align: right;\">\n",
       "      <th></th>\n",
       "      <th>scientific_name</th>\n",
       "      <th>park_name</th>\n",
       "      <th>observations</th>\n",
       "    </tr>\n",
       "  </thead>\n",
       "  <tbody>\n",
       "    <tr>\n",
       "      <th>0</th>\n",
       "      <td>Vicia benghalensis</td>\n",
       "      <td>Great Smoky Mountains National Park</td>\n",
       "      <td>68</td>\n",
       "    </tr>\n",
       "    <tr>\n",
       "      <th>1</th>\n",
       "      <td>Neovison vison</td>\n",
       "      <td>Great Smoky Mountains National Park</td>\n",
       "      <td>77</td>\n",
       "    </tr>\n",
       "    <tr>\n",
       "      <th>2</th>\n",
       "      <td>Prunus subcordata</td>\n",
       "      <td>Yosemite National Park</td>\n",
       "      <td>138</td>\n",
       "    </tr>\n",
       "    <tr>\n",
       "      <th>3</th>\n",
       "      <td>Abutilon theophrasti</td>\n",
       "      <td>Bryce National Park</td>\n",
       "      <td>84</td>\n",
       "    </tr>\n",
       "    <tr>\n",
       "      <th>4</th>\n",
       "      <td>Githopsis specularioides</td>\n",
       "      <td>Great Smoky Mountains National Park</td>\n",
       "      <td>85</td>\n",
       "    </tr>\n",
       "  </tbody>\n",
       "</table>\n",
       "</div>"
      ],
      "text/plain": [
       "            scientific_name                            park_name  observations\n",
       "0        Vicia benghalensis  Great Smoky Mountains National Park            68\n",
       "1            Neovison vison  Great Smoky Mountains National Park            77\n",
       "2         Prunus subcordata               Yosemite National Park           138\n",
       "3      Abutilon theophrasti                  Bryce National Park            84\n",
       "4  Githopsis specularioides  Great Smoky Mountains National Park            85"
      ]
     },
     "execution_count": 43,
     "metadata": {},
     "output_type": "execute_result"
    }
   ],
   "source": [
    "observations_df = pd.read_csv(\"observations.csv\")\n",
    "observations_df.head()"
   ]
  },
  {
   "cell_type": "markdown",
   "metadata": {},
   "source": [
    "### *species_info.csv*\n",
    "This dataset provides detailed information about various species, including their classification and conservation status. The fields are as follows:\n",
    "\n",
    "- **category**: The taxonomic category of the species, which can include Amphibian, Bird, Fish, Mammal, Nonvascular Plant, Reptile, or Vascular Plant.\n",
    "- **scientific_name**: The scientific name of the species, which matches the names in the observations dataset for easy cross-referencing.\n",
    "- **common_names**: Common names or vernacular names associated with the species, providing a more relatable reference for non-scientific audiences.\n",
    "- **conservation_status**: The conservation status of the species, which may be empty or indicate statuses such as Endangered, In Recovery, Species of Concern, or Threatened, highlighting the species' risk levels."
   ]
  },
  {
   "cell_type": "code",
   "execution_count": 46,
   "metadata": {},
   "outputs": [
    {
     "data": {
      "text/html": [
       "<div>\n",
       "<style scoped>\n",
       "    .dataframe tbody tr th:only-of-type {\n",
       "        vertical-align: middle;\n",
       "    }\n",
       "\n",
       "    .dataframe tbody tr th {\n",
       "        vertical-align: top;\n",
       "    }\n",
       "\n",
       "    .dataframe thead th {\n",
       "        text-align: right;\n",
       "    }\n",
       "</style>\n",
       "<table border=\"1\" class=\"dataframe\">\n",
       "  <thead>\n",
       "    <tr style=\"text-align: right;\">\n",
       "      <th></th>\n",
       "      <th>category</th>\n",
       "      <th>scientific_name</th>\n",
       "      <th>common_names</th>\n",
       "      <th>conservation_status</th>\n",
       "    </tr>\n",
       "  </thead>\n",
       "  <tbody>\n",
       "    <tr>\n",
       "      <th>0</th>\n",
       "      <td>Mammal</td>\n",
       "      <td>Clethrionomys gapperi gapperi</td>\n",
       "      <td>Gapper's Red-Backed Vole</td>\n",
       "      <td>NaN</td>\n",
       "    </tr>\n",
       "    <tr>\n",
       "      <th>1</th>\n",
       "      <td>Mammal</td>\n",
       "      <td>Bos bison</td>\n",
       "      <td>American Bison, Bison</td>\n",
       "      <td>NaN</td>\n",
       "    </tr>\n",
       "    <tr>\n",
       "      <th>2</th>\n",
       "      <td>Mammal</td>\n",
       "      <td>Bos taurus</td>\n",
       "      <td>Aurochs, Aurochs, Domestic Cattle (Feral), Dom...</td>\n",
       "      <td>NaN</td>\n",
       "    </tr>\n",
       "    <tr>\n",
       "      <th>3</th>\n",
       "      <td>Mammal</td>\n",
       "      <td>Ovis aries</td>\n",
       "      <td>Domestic Sheep, Mouflon, Red Sheep, Sheep (Feral)</td>\n",
       "      <td>NaN</td>\n",
       "    </tr>\n",
       "    <tr>\n",
       "      <th>4</th>\n",
       "      <td>Mammal</td>\n",
       "      <td>Cervus elaphus</td>\n",
       "      <td>Wapiti Or Elk</td>\n",
       "      <td>NaN</td>\n",
       "    </tr>\n",
       "  </tbody>\n",
       "</table>\n",
       "</div>"
      ],
      "text/plain": [
       "  category                scientific_name  \\\n",
       "0   Mammal  Clethrionomys gapperi gapperi   \n",
       "1   Mammal                      Bos bison   \n",
       "2   Mammal                     Bos taurus   \n",
       "3   Mammal                     Ovis aries   \n",
       "4   Mammal                 Cervus elaphus   \n",
       "\n",
       "                                        common_names conservation_status  \n",
       "0                           Gapper's Red-Backed Vole                 NaN  \n",
       "1                              American Bison, Bison                 NaN  \n",
       "2  Aurochs, Aurochs, Domestic Cattle (Feral), Dom...                 NaN  \n",
       "3  Domestic Sheep, Mouflon, Red Sheep, Sheep (Feral)                 NaN  \n",
       "4                                      Wapiti Or Elk                 NaN  "
      ]
     },
     "execution_count": 46,
     "metadata": {},
     "output_type": "execute_result"
    }
   ],
   "source": [
    "species_info_df = pd.read_csv(\"species_info.csv\")\n",
    "species_info_df.head()"
   ]
  },
  {
   "cell_type": "markdown",
   "metadata": {},
   "source": [
    "## Data Exploration & Cleaning\n",
    "**observations.csv**"
   ]
  },
  {
   "cell_type": "code",
   "execution_count": 84,
   "metadata": {},
   "outputs": [],
   "source": [
    "# observations_df.info()\n",
    "# There are no null values, but scientific_name and park_name are mapped as objects"
   ]
  },
  {
   "cell_type": "code",
   "execution_count": 86,
   "metadata": {},
   "outputs": [
    {
     "name": "stdout",
     "output_type": "stream",
     "text": [
      "<class 'pandas.core.frame.DataFrame'>\n",
      "RangeIndex: 23296 entries, 0 to 23295\n",
      "Data columns (total 3 columns):\n",
      " #   Column           Non-Null Count  Dtype \n",
      "---  ------           --------------  ----- \n",
      " 0   scientific_name  23296 non-null  string\n",
      " 1   park_name        23296 non-null  string\n",
      " 2   observations     23296 non-null  int64 \n",
      "dtypes: int64(1), string(2)\n",
      "memory usage: 546.1 KB\n"
     ]
    }
   ],
   "source": [
    "# We will start by forcing the first 2 columns being mapped as strings\n",
    "observations_df['scientific_name'] = observations_df['scientific_name'].astype(\"string\")\n",
    "observations_df['park_name'] = observations_df['park_name'].astype(\"string\")\n",
    "observations_df.info()\n"
   ]
  },
  {
   "cell_type": "code",
   "execution_count": 101,
   "metadata": {},
   "outputs": [
    {
     "name": "stdout",
     "output_type": "stream",
     "text": [
      "# of Unique values for scientific_name: 5541\n",
      "\n",
      "# of Unique values for park_name: 4\n",
      "\n",
      "Range of values for observations: [9, 321]\n",
      "\n"
     ]
    }
   ],
   "source": [
    "# Let's check the different values for each field\n",
    "\n",
    "for column in [\"scientific_name\", \"park_name\"]:\n",
    "    nunique_values = observations_df[column].nunique()\n",
    "    print(f\"# of Unique values for {column}: {nunique_values}\\n\")\n",
    "\n",
    "# We will do the same for observations, but we will just see the range of values we could find\n",
    "\n",
    "print(f\"Range of values for observations: [{observations_df['observations'].min()}, {observations_df['observations'].max()}]\\n\")"
   ]
  },
  {
   "cell_type": "code",
   "execution_count": null,
   "metadata": {},
   "outputs": [],
   "source": [
    "#"
   ]
  },
  {
   "cell_type": "markdown",
   "metadata": {},
   "source": [
    "**species_info.csv**"
   ]
  },
  {
   "cell_type": "code",
   "execution_count": 97,
   "metadata": {},
   "outputs": [
    {
     "name": "stdout",
     "output_type": "stream",
     "text": [
      "<class 'pandas.core.frame.DataFrame'>\n",
      "RangeIndex: 5824 entries, 0 to 5823\n",
      "Data columns (total 4 columns):\n",
      " #   Column               Non-Null Count  Dtype   \n",
      "---  ------               --------------  -----   \n",
      " 0   category             5824 non-null   category\n",
      " 1   scientific_name      5824 non-null   string  \n",
      " 2   common_names         5824 non-null   string  \n",
      " 3   conservation_status  5824 non-null   string  \n",
      "dtypes: category(1), string(3)\n",
      "memory usage: 142.7 KB\n"
     ]
    }
   ],
   "source": [
    "#species_info_df.info()\n",
    "# no null values except on \"conservation_status\" column, where most of the values are null. All the fields are mapped as objects\n",
    "# Let's convert each column to the most suitable data type:\n",
    "species_info_df['category'] = species_info_df['category'].astype('category')\n",
    "species_info_df['scientific_name'] = species_info_df['scientific_name'].astype('string')\n",
    "species_info_df['common_names'] = species_info_df['common_names'].astype('string')\n",
    "species_info_df['conservation_status'] = species_info_df['conservation_status'].astype('string')\n",
    "species_info_df['conservation_status'].fillna('No Intervention', inplace=True)\n",
    "species_info_df.info()"
   ]
  },
  {
   "cell_type": "code",
   "execution_count": 111,
   "metadata": {},
   "outputs": [
    {
     "name": "stdout",
     "output_type": "stream",
     "text": [
      "# of Unique values for category: 7\n",
      "\n",
      "# of Unique values for scientific_name: 5541\n",
      "\n",
      "# of Unique values for common_names: 5504\n",
      "\n",
      "# of Unique values for conservation_status: 5\n",
      "\n"
     ]
    }
   ],
   "source": [
    "# Let's check the different values for each field\n",
    "\n",
    "for column in species_info_df.columns:\n",
    "    nunique_values = species_info_df[column].nunique()\n",
    "    print(f\"# of Unique values for {column}: {nunique_values}\\n\")"
   ]
  },
  {
   "cell_type": "code",
   "execution_count": null,
   "metadata": {},
   "outputs": [],
   "source": []
  },
  {
   "cell_type": "markdown",
   "metadata": {},
   "source": [
    "# Analysis & Interpretation: Data Visualization and Hypothesis Testing\n",
    "## Species Observations\n",
    "**Most Observed species in each park**"
   ]
  },
  {
   "cell_type": "code",
   "execution_count": null,
   "metadata": {},
   "outputs": [],
   "source": []
  },
  {
   "cell_type": "markdown",
   "metadata": {},
   "source": [
    "**Comparison of species observations across parks: patterns and differences in biodiversity**"
   ]
  },
  {
   "cell_type": "code",
   "execution_count": null,
   "metadata": {},
   "outputs": [],
   "source": []
  },
  {
   "cell_type": "markdown",
   "metadata": {},
   "source": [
    "**Temporal trends over time**"
   ]
  },
  {
   "cell_type": "code",
   "execution_count": null,
   "metadata": {},
   "outputs": [],
   "source": []
  },
  {
   "cell_type": "markdown",
   "metadata": {},
   "source": [
    "## Species Information\n",
    "**Species distribution by Category: which are the groups more represented in each park?**"
   ]
  },
  {
   "cell_type": "code",
   "execution_count": null,
   "metadata": {},
   "outputs": [],
   "source": []
  },
  {
   "cell_type": "markdown",
   "metadata": {},
   "source": [
    "**Conservation Status: endangered species and their distribution among parks**"
   ]
  },
  {
   "cell_type": "code",
   "execution_count": null,
   "metadata": {},
   "outputs": [],
   "source": []
  },
  {
   "cell_type": "markdown",
   "metadata": {},
   "source": [
    "**Endemic & Rare species in each park**"
   ]
  },
  {
   "cell_type": "code",
   "execution_count": null,
   "metadata": {},
   "outputs": [],
   "source": []
  },
  {
   "cell_type": "markdown",
   "metadata": {},
   "source": [
    "# Conclusions"
   ]
  },
  {
   "cell_type": "code",
   "execution_count": null,
   "metadata": {},
   "outputs": [],
   "source": []
  }
 ],
 "metadata": {
  "kernelspec": {
   "display_name": "Python 3 (ipykernel)",
   "language": "python",
   "name": "python3"
  },
  "language_info": {
   "codemirror_mode": {
    "name": "ipython",
    "version": 3
   },
   "file_extension": ".py",
   "mimetype": "text/x-python",
   "name": "python",
   "nbconvert_exporter": "python",
   "pygments_lexer": "ipython3",
   "version": "3.11.5"
  }
 },
 "nbformat": 4,
 "nbformat_minor": 4
}
